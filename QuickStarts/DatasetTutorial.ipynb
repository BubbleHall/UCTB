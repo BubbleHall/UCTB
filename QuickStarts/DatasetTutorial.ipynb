{
 "cells": [
  {
   "cell_type": "code",
   "execution_count": 1,
   "metadata": {},
   "outputs": [],
   "source": [
    "from UCTB.dataset import NodeTrafficLoader"
   ]
  },
  {
   "cell_type": "code",
   "execution_count": 2,
   "metadata": {},
   "outputs": [],
   "source": [
    "data_loader = NodeTrafficLoader(dataset='Bike', city='NYC')"
   ]
  },
  {
   "cell_type": "code",
   "execution_count": 3,
   "metadata": {},
   "outputs": [
    {
     "name": "stdout",
     "output_type": "stream",
     "text": [
      "Data time range ['2013-07-01', '2017-09-30']\n",
      "Traffic data shape: (37248, 717)\n",
      "Time fitness: 60 minutes\n",
      "Time sequence length: 37248\n",
      "Number of stations: 717\n"
     ]
    }
   ],
   "source": [
    "# traffic data\n",
    "print('Data time range', data_loader.dataset.time_range)\n",
    "print('Traffic data shape:', data_loader.traffic_data.shape)\n",
    "# The first dimension of data_loader.traffic_data is the length of time-sequence.\n",
    "# the second dimension is the number of stations\n",
    "print('Time fitness:', data_loader.dataset.time_fitness, 'minutes')\n",
    "print('Time sequence length:', data_loader.traffic_data.shape[0])\n",
    "print('Number of stations:', data_loader.traffic_data.shape[1])"
   ]
  },
  {
   "cell_type": "code",
   "execution_count": 4,
   "metadata": {},
   "outputs": [
    {
     "data": {
      "text/plain": [
       "[<matplotlib.lines.Line2D at 0x14b05b7f0>]"
      ]
     },
     "execution_count": 4,
     "metadata": {},
     "output_type": "execute_result"
    },
    {
     "data": {
      "image/png": "[encoded data removed]",
      "text/plain": [
       "<Figure size 432x288 with 1 Axes>"
      ]
     },
     "metadata": {
      "needs_background": "light"
     },
     "output_type": "display_data"
    }
   ],
   "source": [
    "import matplotlib.pyplot as plt\n",
    "plt.plot(data_loader.traffic_data[:, 0])"
   ]
  },
  {
   "cell_type": "code",
   "execution_count": 10,
   "metadata": {},
   "outputs": [
    {
     "name": "stdout",
     "output_type": "stream",
     "text": [
      "Train data length (33523, 717)\n",
      "Test data length (3725, 717)\n"
     ]
    }
   ],
   "source": [
    "# The traffic data is cut into two parts by default: [train-0.9, test-0.1]\n",
    "print('Train data length', data_loader.train_data.shape)\n",
    "print('Test data length', data_loader.test_data.shape)"
   ]
  },
  {
   "cell_type": "code",
   "execution_count": null,
   "metadata": {},
   "outputs": [],
   "source": []
  }
 ],
 "metadata": {
  "kernelspec": {
   "display_name": "Python 3",
   "language": "python",
   "name": "python3"
  },
  "language_info": {
   "codemirror_mode": {
    "name": "ipython",
    "version": 3
   },
   "file_extension": ".py",
   "mimetype": "text/x-python",
   "name": "python",
   "nbconvert_exporter": "python",
   "pygments_lexer": "ipython3",
   "version": "3.6.1"
  }
 },
 "nbformat": 4,
 "nbformat_minor": 2
}
