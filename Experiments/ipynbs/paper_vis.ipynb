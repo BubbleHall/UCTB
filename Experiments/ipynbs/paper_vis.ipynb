{
 "cells": [
  {
   "cell_type": "code",
   "execution_count": 13,
   "metadata": {},
   "outputs": [],
   "source": [
    "from UCTB.dataset import NodeTrafficLoader\n",
    "data_loader = NodeTrafficLoader(dataset='Bike', city='NYC', with_lm=False)"
   ]
  },
  {
   "cell_type": "code",
   "execution_count": 14,
   "metadata": {},
   "outputs": [],
   "source": [
    "closeness = [data_loader.traffic_data[i, 0] for i in range(data_loader.traffic_data.shape[0])]\n",
    "period = [data_loader.traffic_data[i, 0] for i in range(data_loader.traffic_data.shape[0]) if i % 24 == 0]\n",
    "trend = [data_loader.traffic_data[i, 0] for i in range(data_loader.traffic_data.shape[0]) if i % (24*7) == 0]"
   ]
  },
  {
   "cell_type": "code",
   "execution_count": 12,
   "metadata": {},
   "outputs": [],
   "source": [
    "import matplotlib.pyplot as plt\n",
    "\n",
    "fig, axs = plt.subplots(1, 3, figsize=(9, 3), sharey=True)\n",
    "\n",
    "axs[0].plot(closeness[-24:])\n",
    "axs[0].set_xlabel('24 Hours', fontsize=15)\n",
    "axs[0].set_ylabel('Traffic flow', fontsize=15)\n",
    "\n",
    "axs[1].plot(period[-7:])\n",
    "axs[1].set_xlabel('7 Days', fontsize=15)\n",
    "\n",
    "axs[2].plot(trend[-4:])\n",
    "axs[2].set_xlabel('4 Weeks', fontsize=15)\n",
    "\n",
    "fig.set_size_inches(12, 4)\n",
    "fig.savefig('temporal_feature_example.png', dpi=100)\n",
    "plt.close()"
   ]
  },
  {
   "cell_type": "code",
   "execution_count": null,
   "metadata": {},
   "outputs": [],
   "source": []
  }
 ],
 "metadata": {
  "kernelspec": {
   "display_name": "Python 3",
   "language": "python",
   "name": "python3"
  },
  "language_info": {
   "codemirror_mode": {
    "name": "ipython",
    "version": 3
   },
   "file_extension": ".py",
   "mimetype": "text/x-python",
   "name": "python",
   "nbconvert_exporter": "python",
   "pygments_lexer": "ipython3",
   "version": "3.6.1"
  }
 },
 "nbformat": 4,
 "nbformat_minor": 2
}
